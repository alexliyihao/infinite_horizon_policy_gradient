{
 "cells": [
  {
   "cell_type": "code",
   "execution_count": 12,
   "metadata": {},
   "outputs": [],
   "source": [
    "from wrapper import *"
   ]
  },
  {
   "cell_type": "code",
   "execution_count": null,
   "metadata": {},
   "outputs": [],
   "source": [
    "in_policy_optimization(rolling_out_start_recording = 1000,\n",
    "                           rolling_out_step = 15000,\n",
    "                           n_rolling_out = 5,\n",
    "                           optimization_step = 50,\n",
    "                           lr = 0.05,\n",
    "                           normalized_grad = True,\n",
    "                           discount_constant = 1.0,\n",
    "                           model = \"param\",\n",
    "                           tensorboard = False)"
   ]
  }
 ],
 "metadata": {
  "kernelspec": {
   "display_name": "Python 3",
   "language": "python",
   "name": "python3"
  },
  "language_info": {
   "codemirror_mode": {
    "name": "ipython",
    "version": 3
   },
   "file_extension": ".py",
   "mimetype": "text/x-python",
   "name": "python",
   "nbconvert_exporter": "python",
   "pygments_lexer": "ipython3",
   "version": "3.7.3"
  }
 },
 "nbformat": 4,
 "nbformat_minor": 2
}
